{
 "cells": [
  {
   "cell_type": "markdown",
   "metadata": {},
   "source": [
    "## Bike Sharing Demand\n",
    "### Forecast use of a city bikeshare system\n",
    "\n",
    "(Kaggle competition link: https://www.kaggle.com/c/bike-sharing-demand/overview)"
   ]
  },
  {
   "cell_type": "code",
   "execution_count": 1,
   "metadata": {},
   "outputs": [
    {
     "name": "stdout",
     "output_type": "stream",
     "text": [
      "kaggle/input/bike-sharing-demand/.~lock.sampleSubmission.csv#\n",
      "kaggle/input/bike-sharing-demand/train.csv\n",
      "kaggle/input/bike-sharing-demand/test.csv\n",
      "kaggle/input/bike-sharing-demand/sampleSubmission.csv\n"
     ]
    }
   ],
   "source": [
    "# This Python 3 environment comes with many helpful analytics libraries installed\n",
    "# It is defined by the kaggle/python docker image: https://github.com/kaggle/docker-python\n",
    "# For example, here's several helpful packages to load in \n",
    "\n",
    "import numpy as np # linear algebra\n",
    "import pandas as pd # data processing, CSV file I/O (e.g. pd.read_csv)\n",
    "\n",
    "# Input data files are available in the \"../input/\" directory.\n",
    "# For example, running this (by clicking run or pressing Shift+Enter) will list all files under the input directory\n",
    "\n",
    "import os\n",
    "for dirname, _, filenames in os.walk('kaggle/input'):\n",
    "    for filename in filenames:\n",
    "        print(os.path.join(dirname, filename))\n",
    "\n",
    "# Any results you write to the current directory are saved as output."
   ]
  },
  {
   "cell_type": "code",
   "execution_count": 2,
   "metadata": {},
   "outputs": [],
   "source": [
    "from sklearn import model_selection, linear_model, ensemble, pipeline, preprocessing, metrics\n",
    "\n",
    "import matplotlib.pyplot as plt\n",
    "import seaborn as sns"
   ]
  },
  {
   "cell_type": "code",
   "execution_count": 3,
   "metadata": {},
   "outputs": [],
   "source": [
    "import warnings\n",
    "warnings.filterwarnings('ignore')"
   ]
  },
  {
   "cell_type": "markdown",
   "metadata": {},
   "source": [
    "## Loading data:"
   ]
  },
  {
   "cell_type": "code",
   "execution_count": 4,
   "metadata": {},
   "outputs": [],
   "source": [
    "# Reading the train data and test data\n",
    "raw_data = pd.read_csv('kaggle/input/bike-sharing-demand/train.csv')\n",
    "raw_val = pd.read_csv('kaggle/input/bike-sharing-demand/test.csv')"
   ]
  },
  {
   "cell_type": "code",
   "execution_count": 5,
   "metadata": {},
   "outputs": [
    {
     "data": {
      "text/html": [
       "<div>\n",
       "<style scoped>\n",
       "    .dataframe tbody tr th:only-of-type {\n",
       "        vertical-align: middle;\n",
       "    }\n",
       "\n",
       "    .dataframe tbody tr th {\n",
       "        vertical-align: top;\n",
       "    }\n",
       "\n",
       "    .dataframe thead th {\n",
       "        text-align: right;\n",
       "    }\n",
       "</style>\n",
       "<table border=\"1\" class=\"dataframe\">\n",
       "  <thead>\n",
       "    <tr style=\"text-align: right;\">\n",
       "      <th></th>\n",
       "      <th>datetime</th>\n",
       "      <th>season</th>\n",
       "      <th>holiday</th>\n",
       "      <th>workingday</th>\n",
       "      <th>weather</th>\n",
       "      <th>temp</th>\n",
       "      <th>atemp</th>\n",
       "      <th>humidity</th>\n",
       "      <th>windspeed</th>\n",
       "      <th>casual</th>\n",
       "      <th>registered</th>\n",
       "      <th>count</th>\n",
       "    </tr>\n",
       "  </thead>\n",
       "  <tbody>\n",
       "    <tr>\n",
       "      <td>0</td>\n",
       "      <td>2011-01-01 00:00:00</td>\n",
       "      <td>1</td>\n",
       "      <td>0</td>\n",
       "      <td>0</td>\n",
       "      <td>1</td>\n",
       "      <td>9.84</td>\n",
       "      <td>14.395</td>\n",
       "      <td>81</td>\n",
       "      <td>0.0</td>\n",
       "      <td>3</td>\n",
       "      <td>13</td>\n",
       "      <td>16</td>\n",
       "    </tr>\n",
       "    <tr>\n",
       "      <td>1</td>\n",
       "      <td>2011-01-01 01:00:00</td>\n",
       "      <td>1</td>\n",
       "      <td>0</td>\n",
       "      <td>0</td>\n",
       "      <td>1</td>\n",
       "      <td>9.02</td>\n",
       "      <td>13.635</td>\n",
       "      <td>80</td>\n",
       "      <td>0.0</td>\n",
       "      <td>8</td>\n",
       "      <td>32</td>\n",
       "      <td>40</td>\n",
       "    </tr>\n",
       "    <tr>\n",
       "      <td>2</td>\n",
       "      <td>2011-01-01 02:00:00</td>\n",
       "      <td>1</td>\n",
       "      <td>0</td>\n",
       "      <td>0</td>\n",
       "      <td>1</td>\n",
       "      <td>9.02</td>\n",
       "      <td>13.635</td>\n",
       "      <td>80</td>\n",
       "      <td>0.0</td>\n",
       "      <td>5</td>\n",
       "      <td>27</td>\n",
       "      <td>32</td>\n",
       "    </tr>\n",
       "    <tr>\n",
       "      <td>3</td>\n",
       "      <td>2011-01-01 03:00:00</td>\n",
       "      <td>1</td>\n",
       "      <td>0</td>\n",
       "      <td>0</td>\n",
       "      <td>1</td>\n",
       "      <td>9.84</td>\n",
       "      <td>14.395</td>\n",
       "      <td>75</td>\n",
       "      <td>0.0</td>\n",
       "      <td>3</td>\n",
       "      <td>10</td>\n",
       "      <td>13</td>\n",
       "    </tr>\n",
       "    <tr>\n",
       "      <td>4</td>\n",
       "      <td>2011-01-01 04:00:00</td>\n",
       "      <td>1</td>\n",
       "      <td>0</td>\n",
       "      <td>0</td>\n",
       "      <td>1</td>\n",
       "      <td>9.84</td>\n",
       "      <td>14.395</td>\n",
       "      <td>75</td>\n",
       "      <td>0.0</td>\n",
       "      <td>0</td>\n",
       "      <td>1</td>\n",
       "      <td>1</td>\n",
       "    </tr>\n",
       "  </tbody>\n",
       "</table>\n",
       "</div>"
      ],
      "text/plain": [
       "              datetime  season  holiday  workingday  weather  temp   atemp  \\\n",
       "0  2011-01-01 00:00:00       1        0           0        1  9.84  14.395   \n",
       "1  2011-01-01 01:00:00       1        0           0        1  9.02  13.635   \n",
       "2  2011-01-01 02:00:00       1        0           0        1  9.02  13.635   \n",
       "3  2011-01-01 03:00:00       1        0           0        1  9.84  14.395   \n",
       "4  2011-01-01 04:00:00       1        0           0        1  9.84  14.395   \n",
       "\n",
       "   humidity  windspeed  casual  registered  count  \n",
       "0        81        0.0       3          13     16  \n",
       "1        80        0.0       8          32     40  \n",
       "2        80        0.0       5          27     32  \n",
       "3        75        0.0       3          10     13  \n",
       "4        75        0.0       0           1      1  "
      ]
     },
     "execution_count": 5,
     "metadata": {},
     "output_type": "execute_result"
    }
   ],
   "source": [
    "raw_data.head()"
   ]
  },
  {
   "cell_type": "code",
   "execution_count": 6,
   "metadata": {},
   "outputs": [
    {
     "data": {
      "text/html": [
       "<div>\n",
       "<style scoped>\n",
       "    .dataframe tbody tr th:only-of-type {\n",
       "        vertical-align: middle;\n",
       "    }\n",
       "\n",
       "    .dataframe tbody tr th {\n",
       "        vertical-align: top;\n",
       "    }\n",
       "\n",
       "    .dataframe thead th {\n",
       "        text-align: right;\n",
       "    }\n",
       "</style>\n",
       "<table border=\"1\" class=\"dataframe\">\n",
       "  <thead>\n",
       "    <tr style=\"text-align: right;\">\n",
       "      <th></th>\n",
       "      <th>datetime</th>\n",
       "      <th>season</th>\n",
       "      <th>holiday</th>\n",
       "      <th>workingday</th>\n",
       "      <th>weather</th>\n",
       "      <th>temp</th>\n",
       "      <th>atemp</th>\n",
       "      <th>humidity</th>\n",
       "      <th>windspeed</th>\n",
       "    </tr>\n",
       "  </thead>\n",
       "  <tbody>\n",
       "    <tr>\n",
       "      <td>0</td>\n",
       "      <td>2011-01-20 00:00:00</td>\n",
       "      <td>1</td>\n",
       "      <td>0</td>\n",
       "      <td>1</td>\n",
       "      <td>1</td>\n",
       "      <td>10.66</td>\n",
       "      <td>11.365</td>\n",
       "      <td>56</td>\n",
       "      <td>26.0027</td>\n",
       "    </tr>\n",
       "    <tr>\n",
       "      <td>1</td>\n",
       "      <td>2011-01-20 01:00:00</td>\n",
       "      <td>1</td>\n",
       "      <td>0</td>\n",
       "      <td>1</td>\n",
       "      <td>1</td>\n",
       "      <td>10.66</td>\n",
       "      <td>13.635</td>\n",
       "      <td>56</td>\n",
       "      <td>0.0000</td>\n",
       "    </tr>\n",
       "    <tr>\n",
       "      <td>2</td>\n",
       "      <td>2011-01-20 02:00:00</td>\n",
       "      <td>1</td>\n",
       "      <td>0</td>\n",
       "      <td>1</td>\n",
       "      <td>1</td>\n",
       "      <td>10.66</td>\n",
       "      <td>13.635</td>\n",
       "      <td>56</td>\n",
       "      <td>0.0000</td>\n",
       "    </tr>\n",
       "    <tr>\n",
       "      <td>3</td>\n",
       "      <td>2011-01-20 03:00:00</td>\n",
       "      <td>1</td>\n",
       "      <td>0</td>\n",
       "      <td>1</td>\n",
       "      <td>1</td>\n",
       "      <td>10.66</td>\n",
       "      <td>12.880</td>\n",
       "      <td>56</td>\n",
       "      <td>11.0014</td>\n",
       "    </tr>\n",
       "    <tr>\n",
       "      <td>4</td>\n",
       "      <td>2011-01-20 04:00:00</td>\n",
       "      <td>1</td>\n",
       "      <td>0</td>\n",
       "      <td>1</td>\n",
       "      <td>1</td>\n",
       "      <td>10.66</td>\n",
       "      <td>12.880</td>\n",
       "      <td>56</td>\n",
       "      <td>11.0014</td>\n",
       "    </tr>\n",
       "  </tbody>\n",
       "</table>\n",
       "</div>"
      ],
      "text/plain": [
       "              datetime  season  holiday  workingday  weather   temp   atemp  \\\n",
       "0  2011-01-20 00:00:00       1        0           1        1  10.66  11.365   \n",
       "1  2011-01-20 01:00:00       1        0           1        1  10.66  13.635   \n",
       "2  2011-01-20 02:00:00       1        0           1        1  10.66  13.635   \n",
       "3  2011-01-20 03:00:00       1        0           1        1  10.66  12.880   \n",
       "4  2011-01-20 04:00:00       1        0           1        1  10.66  12.880   \n",
       "\n",
       "   humidity  windspeed  \n",
       "0        56    26.0027  \n",
       "1        56     0.0000  \n",
       "2        56     0.0000  \n",
       "3        56    11.0014  \n",
       "4        56    11.0014  "
      ]
     },
     "execution_count": 6,
     "metadata": {},
     "output_type": "execute_result"
    }
   ],
   "source": [
    "raw_val.head()"
   ]
  },
  {
   "cell_type": "markdown",
   "metadata": {},
   "source": [
    "### Description of data features:\n",
    "***datetime*** - hourly date + timestamp  \n",
    "\n",
    "***season*** -  1 = spring, 2 = summer, 3 = fall, 4 = winter \n",
    "\n",
    "***holiday*** - whether the day is considered a holiday\n",
    "\n",
    "***workingday*** - whether the day is neither a weekend nor holiday\n",
    "\n",
    "***weather*** - 1: Clear, Few clouds, Partly cloudy, Partly cloudy\n",
    "2: Mist + Cloudy, Mist + Broken clouds, Mist + Few clouds, Mist\n",
    "3: Light Snow, Light Rain + Thunderstorm + Scattered clouds, Light Rain + Scattered clouds\n",
    "4: Heavy Rain + Ice Pallets + Thunderstorm + Mist, Snow + Fog \n",
    "    \n",
    "***temp*** - temperature in Celsius\n",
    "\n",
    "***atemp*** - \"feels like\" temperature in Celsius\n",
    "\n",
    "***humidity*** - relative humidity\n",
    "\n",
    "***windspeed*** - wind speed\n",
    "\n",
    "***casual*** - number of non-registered user rentals initiated\n",
    "\n",
    "***registered*** - number of registered user rentals initiated\n",
    "\n",
    "***count*** - number of total rentals"
   ]
  },
  {
   "cell_type": "markdown",
   "metadata": {},
   "source": [
    "## Data inspection:"
   ]
  },
  {
   "cell_type": "code",
   "execution_count": 7,
   "metadata": {},
   "outputs": [
    {
     "name": "stdout",
     "output_type": "stream",
     "text": [
      "(10886, 12) (6493, 9)\n"
     ]
    }
   ],
   "source": [
    "print(raw_data.shape, raw_val.shape)"
   ]
  },
  {
   "cell_type": "code",
   "execution_count": 8,
   "metadata": {},
   "outputs": [
    {
     "data": {
      "text/plain": [
       "datetime      0\n",
       "season        0\n",
       "holiday       0\n",
       "workingday    0\n",
       "weather       0\n",
       "temp          0\n",
       "atemp         0\n",
       "humidity      0\n",
       "windspeed     0\n",
       "casual        0\n",
       "registered    0\n",
       "count         0\n",
       "dtype: int64"
      ]
     },
     "execution_count": 8,
     "metadata": {},
     "output_type": "execute_result"
    }
   ],
   "source": [
    "raw_data.isnull().sum()"
   ]
  },
  {
   "cell_type": "code",
   "execution_count": 9,
   "metadata": {},
   "outputs": [
    {
     "data": {
      "text/plain": [
       "datetime      0\n",
       "season        0\n",
       "holiday       0\n",
       "workingday    0\n",
       "weather       0\n",
       "temp          0\n",
       "atemp         0\n",
       "humidity      0\n",
       "windspeed     0\n",
       "dtype: int64"
      ]
     },
     "execution_count": 9,
     "metadata": {},
     "output_type": "execute_result"
    }
   ],
   "source": [
    "raw_val.isnull().sum()"
   ]
  },
  {
   "cell_type": "code",
   "execution_count": 10,
   "metadata": {},
   "outputs": [
    {
     "name": "stdout",
     "output_type": "stream",
     "text": [
      "<class 'pandas.core.frame.DataFrame'>\n",
      "RangeIndex: 10886 entries, 0 to 10885\n",
      "Data columns (total 12 columns):\n",
      "datetime      10886 non-null object\n",
      "season        10886 non-null int64\n",
      "holiday       10886 non-null int64\n",
      "workingday    10886 non-null int64\n",
      "weather       10886 non-null int64\n",
      "temp          10886 non-null float64\n",
      "atemp         10886 non-null float64\n",
      "humidity      10886 non-null int64\n",
      "windspeed     10886 non-null float64\n",
      "casual        10886 non-null int64\n",
      "registered    10886 non-null int64\n",
      "count         10886 non-null int64\n",
      "dtypes: float64(3), int64(8), object(1)\n",
      "memory usage: 1020.7+ KB\n"
     ]
    }
   ],
   "source": [
    "raw_data.info()"
   ]
  },
  {
   "cell_type": "code",
   "execution_count": 11,
   "metadata": {},
   "outputs": [
    {
     "data": {
      "text/html": [
       "<div>\n",
       "<style scoped>\n",
       "    .dataframe tbody tr th:only-of-type {\n",
       "        vertical-align: middle;\n",
       "    }\n",
       "\n",
       "    .dataframe tbody tr th {\n",
       "        vertical-align: top;\n",
       "    }\n",
       "\n",
       "    .dataframe thead th {\n",
       "        text-align: right;\n",
       "    }\n",
       "</style>\n",
       "<table border=\"1\" class=\"dataframe\">\n",
       "  <thead>\n",
       "    <tr style=\"text-align: right;\">\n",
       "      <th></th>\n",
       "      <th>season</th>\n",
       "      <th>holiday</th>\n",
       "      <th>workingday</th>\n",
       "      <th>weather</th>\n",
       "      <th>temp</th>\n",
       "      <th>atemp</th>\n",
       "      <th>humidity</th>\n",
       "      <th>windspeed</th>\n",
       "      <th>casual</th>\n",
       "      <th>registered</th>\n",
       "      <th>count</th>\n",
       "    </tr>\n",
       "  </thead>\n",
       "  <tbody>\n",
       "    <tr>\n",
       "      <td>count</td>\n",
       "      <td>10886.000000</td>\n",
       "      <td>10886.000000</td>\n",
       "      <td>10886.000000</td>\n",
       "      <td>10886.000000</td>\n",
       "      <td>10886.00000</td>\n",
       "      <td>10886.000000</td>\n",
       "      <td>10886.000000</td>\n",
       "      <td>10886.000000</td>\n",
       "      <td>10886.000000</td>\n",
       "      <td>10886.000000</td>\n",
       "      <td>10886.000000</td>\n",
       "    </tr>\n",
       "    <tr>\n",
       "      <td>mean</td>\n",
       "      <td>2.506614</td>\n",
       "      <td>0.028569</td>\n",
       "      <td>0.680875</td>\n",
       "      <td>1.418427</td>\n",
       "      <td>20.23086</td>\n",
       "      <td>23.655084</td>\n",
       "      <td>61.886460</td>\n",
       "      <td>12.799395</td>\n",
       "      <td>36.021955</td>\n",
       "      <td>155.552177</td>\n",
       "      <td>191.574132</td>\n",
       "    </tr>\n",
       "    <tr>\n",
       "      <td>std</td>\n",
       "      <td>1.116174</td>\n",
       "      <td>0.166599</td>\n",
       "      <td>0.466159</td>\n",
       "      <td>0.633839</td>\n",
       "      <td>7.79159</td>\n",
       "      <td>8.474601</td>\n",
       "      <td>19.245033</td>\n",
       "      <td>8.164537</td>\n",
       "      <td>49.960477</td>\n",
       "      <td>151.039033</td>\n",
       "      <td>181.144454</td>\n",
       "    </tr>\n",
       "    <tr>\n",
       "      <td>min</td>\n",
       "      <td>1.000000</td>\n",
       "      <td>0.000000</td>\n",
       "      <td>0.000000</td>\n",
       "      <td>1.000000</td>\n",
       "      <td>0.82000</td>\n",
       "      <td>0.760000</td>\n",
       "      <td>0.000000</td>\n",
       "      <td>0.000000</td>\n",
       "      <td>0.000000</td>\n",
       "      <td>0.000000</td>\n",
       "      <td>1.000000</td>\n",
       "    </tr>\n",
       "    <tr>\n",
       "      <td>25%</td>\n",
       "      <td>2.000000</td>\n",
       "      <td>0.000000</td>\n",
       "      <td>0.000000</td>\n",
       "      <td>1.000000</td>\n",
       "      <td>13.94000</td>\n",
       "      <td>16.665000</td>\n",
       "      <td>47.000000</td>\n",
       "      <td>7.001500</td>\n",
       "      <td>4.000000</td>\n",
       "      <td>36.000000</td>\n",
       "      <td>42.000000</td>\n",
       "    </tr>\n",
       "    <tr>\n",
       "      <td>50%</td>\n",
       "      <td>3.000000</td>\n",
       "      <td>0.000000</td>\n",
       "      <td>1.000000</td>\n",
       "      <td>1.000000</td>\n",
       "      <td>20.50000</td>\n",
       "      <td>24.240000</td>\n",
       "      <td>62.000000</td>\n",
       "      <td>12.998000</td>\n",
       "      <td>17.000000</td>\n",
       "      <td>118.000000</td>\n",
       "      <td>145.000000</td>\n",
       "    </tr>\n",
       "    <tr>\n",
       "      <td>75%</td>\n",
       "      <td>4.000000</td>\n",
       "      <td>0.000000</td>\n",
       "      <td>1.000000</td>\n",
       "      <td>2.000000</td>\n",
       "      <td>26.24000</td>\n",
       "      <td>31.060000</td>\n",
       "      <td>77.000000</td>\n",
       "      <td>16.997900</td>\n",
       "      <td>49.000000</td>\n",
       "      <td>222.000000</td>\n",
       "      <td>284.000000</td>\n",
       "    </tr>\n",
       "    <tr>\n",
       "      <td>max</td>\n",
       "      <td>4.000000</td>\n",
       "      <td>1.000000</td>\n",
       "      <td>1.000000</td>\n",
       "      <td>4.000000</td>\n",
       "      <td>41.00000</td>\n",
       "      <td>45.455000</td>\n",
       "      <td>100.000000</td>\n",
       "      <td>56.996900</td>\n",
       "      <td>367.000000</td>\n",
       "      <td>886.000000</td>\n",
       "      <td>977.000000</td>\n",
       "    </tr>\n",
       "  </tbody>\n",
       "</table>\n",
       "</div>"
      ],
      "text/plain": [
       "             season       holiday    workingday       weather         temp  \\\n",
       "count  10886.000000  10886.000000  10886.000000  10886.000000  10886.00000   \n",
       "mean       2.506614      0.028569      0.680875      1.418427     20.23086   \n",
       "std        1.116174      0.166599      0.466159      0.633839      7.79159   \n",
       "min        1.000000      0.000000      0.000000      1.000000      0.82000   \n",
       "25%        2.000000      0.000000      0.000000      1.000000     13.94000   \n",
       "50%        3.000000      0.000000      1.000000      1.000000     20.50000   \n",
       "75%        4.000000      0.000000      1.000000      2.000000     26.24000   \n",
       "max        4.000000      1.000000      1.000000      4.000000     41.00000   \n",
       "\n",
       "              atemp      humidity     windspeed        casual    registered  \\\n",
       "count  10886.000000  10886.000000  10886.000000  10886.000000  10886.000000   \n",
       "mean      23.655084     61.886460     12.799395     36.021955    155.552177   \n",
       "std        8.474601     19.245033      8.164537     49.960477    151.039033   \n",
       "min        0.760000      0.000000      0.000000      0.000000      0.000000   \n",
       "25%       16.665000     47.000000      7.001500      4.000000     36.000000   \n",
       "50%       24.240000     62.000000     12.998000     17.000000    118.000000   \n",
       "75%       31.060000     77.000000     16.997900     49.000000    222.000000   \n",
       "max       45.455000    100.000000     56.996900    367.000000    886.000000   \n",
       "\n",
       "              count  \n",
       "count  10886.000000  \n",
       "mean     191.574132  \n",
       "std      181.144454  \n",
       "min        1.000000  \n",
       "25%       42.000000  \n",
       "50%      145.000000  \n",
       "75%      284.000000  \n",
       "max      977.000000  "
      ]
     },
     "execution_count": 11,
     "metadata": {},
     "output_type": "execute_result"
    }
   ],
   "source": [
    "raw_data.describe()"
   ]
  },
  {
   "cell_type": "code",
   "execution_count": 12,
   "metadata": {},
   "outputs": [
    {
     "data": {
      "text/html": [
       "<div>\n",
       "<style scoped>\n",
       "    .dataframe tbody tr th:only-of-type {\n",
       "        vertical-align: middle;\n",
       "    }\n",
       "\n",
       "    .dataframe tbody tr th {\n",
       "        vertical-align: top;\n",
       "    }\n",
       "\n",
       "    .dataframe thead th {\n",
       "        text-align: right;\n",
       "    }\n",
       "</style>\n",
       "<table border=\"1\" class=\"dataframe\">\n",
       "  <thead>\n",
       "    <tr style=\"text-align: right;\">\n",
       "      <th></th>\n",
       "      <th>season</th>\n",
       "      <th>holiday</th>\n",
       "      <th>workingday</th>\n",
       "      <th>weather</th>\n",
       "      <th>temp</th>\n",
       "      <th>atemp</th>\n",
       "      <th>humidity</th>\n",
       "      <th>windspeed</th>\n",
       "      <th>casual</th>\n",
       "      <th>registered</th>\n",
       "      <th>count</th>\n",
       "    </tr>\n",
       "  </thead>\n",
       "  <tbody>\n",
       "    <tr>\n",
       "      <td>season</td>\n",
       "      <td>1.000000</td>\n",
       "      <td>0.029368</td>\n",
       "      <td>-0.008126</td>\n",
       "      <td>0.008879</td>\n",
       "      <td>0.258689</td>\n",
       "      <td>0.264744</td>\n",
       "      <td>0.190610</td>\n",
       "      <td>-0.147121</td>\n",
       "      <td>0.096758</td>\n",
       "      <td>0.164011</td>\n",
       "      <td>0.163439</td>\n",
       "    </tr>\n",
       "    <tr>\n",
       "      <td>holiday</td>\n",
       "      <td>0.029368</td>\n",
       "      <td>1.000000</td>\n",
       "      <td>-0.250491</td>\n",
       "      <td>-0.007074</td>\n",
       "      <td>0.000295</td>\n",
       "      <td>-0.005215</td>\n",
       "      <td>0.001929</td>\n",
       "      <td>0.008409</td>\n",
       "      <td>0.043799</td>\n",
       "      <td>-0.020956</td>\n",
       "      <td>-0.005393</td>\n",
       "    </tr>\n",
       "    <tr>\n",
       "      <td>workingday</td>\n",
       "      <td>-0.008126</td>\n",
       "      <td>-0.250491</td>\n",
       "      <td>1.000000</td>\n",
       "      <td>0.033772</td>\n",
       "      <td>0.029966</td>\n",
       "      <td>0.024660</td>\n",
       "      <td>-0.010880</td>\n",
       "      <td>0.013373</td>\n",
       "      <td>-0.319111</td>\n",
       "      <td>0.119460</td>\n",
       "      <td>0.011594</td>\n",
       "    </tr>\n",
       "    <tr>\n",
       "      <td>weather</td>\n",
       "      <td>0.008879</td>\n",
       "      <td>-0.007074</td>\n",
       "      <td>0.033772</td>\n",
       "      <td>1.000000</td>\n",
       "      <td>-0.055035</td>\n",
       "      <td>-0.055376</td>\n",
       "      <td>0.406244</td>\n",
       "      <td>0.007261</td>\n",
       "      <td>-0.135918</td>\n",
       "      <td>-0.109340</td>\n",
       "      <td>-0.128655</td>\n",
       "    </tr>\n",
       "    <tr>\n",
       "      <td>temp</td>\n",
       "      <td>0.258689</td>\n",
       "      <td>0.000295</td>\n",
       "      <td>0.029966</td>\n",
       "      <td>-0.055035</td>\n",
       "      <td>1.000000</td>\n",
       "      <td>0.984948</td>\n",
       "      <td>-0.064949</td>\n",
       "      <td>-0.017852</td>\n",
       "      <td>0.467097</td>\n",
       "      <td>0.318571</td>\n",
       "      <td>0.394454</td>\n",
       "    </tr>\n",
       "    <tr>\n",
       "      <td>atemp</td>\n",
       "      <td>0.264744</td>\n",
       "      <td>-0.005215</td>\n",
       "      <td>0.024660</td>\n",
       "      <td>-0.055376</td>\n",
       "      <td>0.984948</td>\n",
       "      <td>1.000000</td>\n",
       "      <td>-0.043536</td>\n",
       "      <td>-0.057473</td>\n",
       "      <td>0.462067</td>\n",
       "      <td>0.314635</td>\n",
       "      <td>0.389784</td>\n",
       "    </tr>\n",
       "    <tr>\n",
       "      <td>humidity</td>\n",
       "      <td>0.190610</td>\n",
       "      <td>0.001929</td>\n",
       "      <td>-0.010880</td>\n",
       "      <td>0.406244</td>\n",
       "      <td>-0.064949</td>\n",
       "      <td>-0.043536</td>\n",
       "      <td>1.000000</td>\n",
       "      <td>-0.318607</td>\n",
       "      <td>-0.348187</td>\n",
       "      <td>-0.265458</td>\n",
       "      <td>-0.317371</td>\n",
       "    </tr>\n",
       "    <tr>\n",
       "      <td>windspeed</td>\n",
       "      <td>-0.147121</td>\n",
       "      <td>0.008409</td>\n",
       "      <td>0.013373</td>\n",
       "      <td>0.007261</td>\n",
       "      <td>-0.017852</td>\n",
       "      <td>-0.057473</td>\n",
       "      <td>-0.318607</td>\n",
       "      <td>1.000000</td>\n",
       "      <td>0.092276</td>\n",
       "      <td>0.091052</td>\n",
       "      <td>0.101369</td>\n",
       "    </tr>\n",
       "    <tr>\n",
       "      <td>casual</td>\n",
       "      <td>0.096758</td>\n",
       "      <td>0.043799</td>\n",
       "      <td>-0.319111</td>\n",
       "      <td>-0.135918</td>\n",
       "      <td>0.467097</td>\n",
       "      <td>0.462067</td>\n",
       "      <td>-0.348187</td>\n",
       "      <td>0.092276</td>\n",
       "      <td>1.000000</td>\n",
       "      <td>0.497250</td>\n",
       "      <td>0.690414</td>\n",
       "    </tr>\n",
       "    <tr>\n",
       "      <td>registered</td>\n",
       "      <td>0.164011</td>\n",
       "      <td>-0.020956</td>\n",
       "      <td>0.119460</td>\n",
       "      <td>-0.109340</td>\n",
       "      <td>0.318571</td>\n",
       "      <td>0.314635</td>\n",
       "      <td>-0.265458</td>\n",
       "      <td>0.091052</td>\n",
       "      <td>0.497250</td>\n",
       "      <td>1.000000</td>\n",
       "      <td>0.970948</td>\n",
       "    </tr>\n",
       "    <tr>\n",
       "      <td>count</td>\n",
       "      <td>0.163439</td>\n",
       "      <td>-0.005393</td>\n",
       "      <td>0.011594</td>\n",
       "      <td>-0.128655</td>\n",
       "      <td>0.394454</td>\n",
       "      <td>0.389784</td>\n",
       "      <td>-0.317371</td>\n",
       "      <td>0.101369</td>\n",
       "      <td>0.690414</td>\n",
       "      <td>0.970948</td>\n",
       "      <td>1.000000</td>\n",
       "    </tr>\n",
       "  </tbody>\n",
       "</table>\n",
       "</div>"
      ],
      "text/plain": [
       "              season   holiday  workingday   weather      temp     atemp  \\\n",
       "season      1.000000  0.029368   -0.008126  0.008879  0.258689  0.264744   \n",
       "holiday     0.029368  1.000000   -0.250491 -0.007074  0.000295 -0.005215   \n",
       "workingday -0.008126 -0.250491    1.000000  0.033772  0.029966  0.024660   \n",
       "weather     0.008879 -0.007074    0.033772  1.000000 -0.055035 -0.055376   \n",
       "temp        0.258689  0.000295    0.029966 -0.055035  1.000000  0.984948   \n",
       "atemp       0.264744 -0.005215    0.024660 -0.055376  0.984948  1.000000   \n",
       "humidity    0.190610  0.001929   -0.010880  0.406244 -0.064949 -0.043536   \n",
       "windspeed  -0.147121  0.008409    0.013373  0.007261 -0.017852 -0.057473   \n",
       "casual      0.096758  0.043799   -0.319111 -0.135918  0.467097  0.462067   \n",
       "registered  0.164011 -0.020956    0.119460 -0.109340  0.318571  0.314635   \n",
       "count       0.163439 -0.005393    0.011594 -0.128655  0.394454  0.389784   \n",
       "\n",
       "            humidity  windspeed    casual  registered     count  \n",
       "season      0.190610  -0.147121  0.096758    0.164011  0.163439  \n",
       "holiday     0.001929   0.008409  0.043799   -0.020956 -0.005393  \n",
       "workingday -0.010880   0.013373 -0.319111    0.119460  0.011594  \n",
       "weather     0.406244   0.007261 -0.135918   -0.109340 -0.128655  \n",
       "temp       -0.064949  -0.017852  0.467097    0.318571  0.394454  \n",
       "atemp      -0.043536  -0.057473  0.462067    0.314635  0.389784  \n",
       "humidity    1.000000  -0.318607 -0.348187   -0.265458 -0.317371  \n",
       "windspeed  -0.318607   1.000000  0.092276    0.091052  0.101369  \n",
       "casual     -0.348187   0.092276  1.000000    0.497250  0.690414  \n",
       "registered -0.265458   0.091052  0.497250    1.000000  0.970948  \n",
       "count      -0.317371   0.101369  0.690414    0.970948  1.000000  "
      ]
     },
     "execution_count": 12,
     "metadata": {},
     "output_type": "execute_result"
    }
   ],
   "source": [
    "# Correlation \n",
    "raw_data.corr()"
   ]
  },
  {
   "cell_type": "code",
   "execution_count": 13,
   "metadata": {},
   "outputs": [
    {
     "data": {
      "text/plain": [
       "(11.0, 0.0)"
      ]
     },
     "execution_count": 13,
     "metadata": {},
     "output_type": "execute_result"
    },
    {
     "data": {
      "image/png": "[encoded data removed]",
      "text/plain": [
       "<Figure size 792x648 with 2 Axes>"
      ]
     },
     "metadata": {
      "needs_background": "light"
     },
     "output_type": "display_data"
    }
   ],
   "source": [
    "# Visualusation of correlation \n",
    "corr = raw_data.corr()\n",
    "plt.figure(figsize=(11, 9))\n",
    "ax = sns.heatmap(corr, square=True,annot=True,cbar=True, linewidths=.5)\n",
    "i, k = ax.get_ylim()\n",
    "ax.set_ylim(i+0.5, k-0.5)"
   ]
  },
  {
   "cell_type": "markdown",
   "metadata": {},
   "source": [
    "## Data preprocessing:"
   ]
  },
  {
   "cell_type": "code",
   "execution_count": 14,
   "metadata": {},
   "outputs": [
    {
     "data": {
      "text/plain": [
       "True"
      ]
     },
     "execution_count": 14,
     "metadata": {},
     "output_type": "execute_result"
    }
   ],
   "source": [
    "# Features 'registered', 'casual' and target variable 'count'\n",
    "# have a strong linear dependence (a+b=c)\n",
    "np.all(raw_data.registered + raw_data.casual == raw_data['count'])"
   ]
  },
  {
   "cell_type": "code",
   "execution_count": 15,
   "metadata": {},
   "outputs": [],
   "source": [
    "# Converting column to datetime type \n",
    "raw_data.datetime = raw_data.datetime.apply(pd.to_datetime)\n",
    "raw_val.datetime = raw_val.datetime.apply(pd.to_datetime)"
   ]
  },
  {
   "cell_type": "code",
   "execution_count": 16,
   "metadata": {},
   "outputs": [],
   "source": [
    "# Adding new columns - month, hour and year\n",
    "raw_data['month'] = raw_data.datetime.apply(lambda x : x.month)\n",
    "raw_data['hour'] = raw_data.datetime.apply(lambda x : x.hour)\n",
    "raw_data['year'] = raw_data.datetime.apply(lambda x : x.year)\n",
    "\n",
    "raw_val['month'] = raw_val.datetime.apply(lambda x : x.month)\n",
    "raw_val['hour'] = raw_val.datetime.apply(lambda x : x.hour)\n",
    "raw_val['year'] = raw_val.datetime.apply(lambda x : x.year)"
   ]
  },
  {
   "cell_type": "code",
   "execution_count": 17,
   "metadata": {},
   "outputs": [],
   "source": [
    "# Delelting of ununnecessary features\n",
    "raw_data = raw_data.drop(['datetime', 'casual', 'registered'], axis=1)\n",
    "val_data = raw_val.drop(['datetime'], axis=1)"
   ]
  },
  {
   "cell_type": "code",
   "execution_count": 18,
   "metadata": {},
   "outputs": [],
   "source": [
    "# Dividing to train sample and label sample\n",
    "data_labels = raw_data['count']\n",
    "data = raw_data.drop(['count'], axis=1)"
   ]
  },
  {
   "cell_type": "code",
   "execution_count": 19,
   "metadata": {},
   "outputs": [],
   "source": [
    "# Spliting data into random train and test subsets\n",
    "X_train, X_test, y_train, y_test = model_selection.train_test_split(data,\n",
    "                                                                    data_labels,\n",
    "                                                                    test_size=0.1,\n",
    "                                                                    random_state=42)"
   ]
  },
  {
   "cell_type": "code",
   "execution_count": 20,
   "metadata": {},
   "outputs": [
    {
     "name": "stdout",
     "output_type": "stream",
     "text": [
      "(9797, 11) (1089, 11) (9797,) (1089,)\n"
     ]
    }
   ],
   "source": [
    "print(X_train.shape, X_test.shape, y_train.shape, y_test.shape)"
   ]
  },
  {
   "cell_type": "code",
   "execution_count": 21,
   "metadata": {},
   "outputs": [],
   "source": [
    "# Noticing colums with different type of features\n",
    "binary_col = ['holiday', 'workingday']\n",
    "numeric_col = ['temp', 'atemp', 'humidity', 'windspeed', 'hour']\n",
    "categor_col = ['season', 'weather', 'month', 'year']\n",
    "\n",
    "# Function for getting index of columns (for FunctionTransformer)\n",
    "def get_ind(names_col):\n",
    "    return [X_train.columns.get_loc(i) for i in names_col]"
   ]
  },
  {
   "cell_type": "markdown",
   "metadata": {},
   "source": [
    "Encoding, scaling, polymerization will be in pipelines"
   ]
  },
  {
   "cell_type": "markdown",
   "metadata": {},
   "source": [
    "## Linear regression (SGD):"
   ]
  },
  {
   "cell_type": "code",
   "execution_count": 23,
   "metadata": {},
   "outputs": [],
   "source": [
    "# Choosing a model\n",
    "sgd_reg = linear_model.SGDRegressor(random_state=42)"
   ]
  },
  {
   "cell_type": "code",
   "execution_count": 24,
   "metadata": {},
   "outputs": [],
   "source": [
    "# Creating pipeline for data transforming and further estimation\n",
    "sgd_estimator = pipeline.Pipeline(steps=[\n",
    "    ('feature_processing', pipeline.FeatureUnion(transformer_list=[\n",
    "        \n",
    "        #binary\n",
    "        ('binary_variables_processing', preprocessing.FunctionTransformer(lambda data:\\\n",
    "                                                                          data[:, get_ind(binary_col)])),\n",
    "        \n",
    "        #numeric\n",
    "        ('numeric_variables_processing', pipeline.Pipeline(steps=[\n",
    "            ('selecting', preprocessing.FunctionTransformer(lambda data: data[:, get_ind(numeric_col)])),\n",
    "            ('scaling', preprocessing.StandardScaler(with_mean=0.))])),\n",
    "        \n",
    "        #categorical\n",
    "        ('categorical_variables_processing', pipeline.Pipeline(steps=[\n",
    "            ('selecting', preprocessing.FunctionTransformer(lambda data: data[:, get_ind(categor_col)])),\n",
    "            ('hot_encoding', preprocessing.OneHotEncoder(handle_unknown='ignore'))])),\n",
    "        ])),\n",
    "    \n",
    "    ('model_fitting', sgd_reg)\n",
    "])"
   ]
  },
  {
   "cell_type": "code",
   "execution_count": 25,
   "metadata": {},
   "outputs": [
    {
     "name": "stdout",
     "output_type": "stream",
     "text": [
      "memory\n",
      "steps\n",
      "verbose\n",
      "feature_processing\n",
      "model_fitting\n",
      "feature_processing__n_jobs\n",
      "feature_processing__transformer_list\n",
      "feature_processing__transformer_weights\n",
      "feature_processing__verbose\n",
      "feature_processing__binary_variables_processing\n",
      "feature_processing__numeric_variables_processing\n",
      "feature_processing__categorical_variables_processing\n",
      "feature_processing__binary_variables_processing__accept_sparse\n",
      "feature_processing__binary_variables_processing__check_inverse\n",
      "feature_processing__binary_variables_processing__func\n",
      "feature_processing__binary_variables_processing__inv_kw_args\n",
      "feature_processing__binary_variables_processing__inverse_func\n",
      "feature_processing__binary_variables_processing__kw_args\n",
      "feature_processing__binary_variables_processing__pass_y\n",
      "feature_processing__binary_variables_processing__validate\n",
      "feature_processing__numeric_variables_processing__memory\n",
      "feature_processing__numeric_variables_processing__steps\n",
      "feature_processing__numeric_variables_processing__verbose\n",
      "feature_processing__numeric_variables_processing__selecting\n",
      "feature_processing__numeric_variables_processing__scaling\n",
      "feature_processing__numeric_variables_processing__selecting__accept_sparse\n",
      "feature_processing__numeric_variables_processing__selecting__check_inverse\n",
      "feature_processing__numeric_variables_processing__selecting__func\n",
      "feature_processing__numeric_variables_processing__selecting__inv_kw_args\n",
      "feature_processing__numeric_variables_processing__selecting__inverse_func\n",
      "feature_processing__numeric_variables_processing__selecting__kw_args\n",
      "feature_processing__numeric_variables_processing__selecting__pass_y\n",
      "feature_processing__numeric_variables_processing__selecting__validate\n",
      "feature_processing__numeric_variables_processing__scaling__copy\n",
      "feature_processing__numeric_variables_processing__scaling__with_mean\n",
      "feature_processing__numeric_variables_processing__scaling__with_std\n",
      "feature_processing__categorical_variables_processing__memory\n",
      "feature_processing__categorical_variables_processing__steps\n",
      "feature_processing__categorical_variables_processing__verbose\n",
      "feature_processing__categorical_variables_processing__selecting\n",
      "feature_processing__categorical_variables_processing__hot_encoding\n",
      "feature_processing__categorical_variables_processing__selecting__accept_sparse\n",
      "feature_processing__categorical_variables_processing__selecting__check_inverse\n",
      "feature_processing__categorical_variables_processing__selecting__func\n",
      "feature_processing__categorical_variables_processing__selecting__inv_kw_args\n",
      "feature_processing__categorical_variables_processing__selecting__inverse_func\n",
      "feature_processing__categorical_variables_processing__selecting__kw_args\n",
      "feature_processing__categorical_variables_processing__selecting__pass_y\n",
      "feature_processing__categorical_variables_processing__selecting__validate\n",
      "feature_processing__categorical_variables_processing__hot_encoding__categorical_features\n",
      "feature_processing__categorical_variables_processing__hot_encoding__categories\n",
      "feature_processing__categorical_variables_processing__hot_encoding__drop\n",
      "feature_processing__categorical_variables_processing__hot_encoding__dtype\n",
      "feature_processing__categorical_variables_processing__hot_encoding__handle_unknown\n",
      "feature_processing__categorical_variables_processing__hot_encoding__n_values\n",
      "feature_processing__categorical_variables_processing__hot_encoding__sparse\n",
      "model_fitting__alpha\n",
      "model_fitting__average\n",
      "model_fitting__early_stopping\n",
      "model_fitting__epsilon\n",
      "model_fitting__eta0\n",
      "model_fitting__fit_intercept\n",
      "model_fitting__l1_ratio\n",
      "model_fitting__learning_rate\n",
      "model_fitting__loss\n",
      "model_fitting__max_iter\n",
      "model_fitting__n_iter_no_change\n",
      "model_fitting__penalty\n",
      "model_fitting__power_t\n",
      "model_fitting__random_state\n",
      "model_fitting__shuffle\n",
      "model_fitting__tol\n",
      "model_fitting__validation_fraction\n",
      "model_fitting__verbose\n",
      "model_fitting__warm_start\n"
     ]
    }
   ],
   "source": [
    "# Available parametrs of created estimator\n",
    "print(*sgd_estimator.get_params().keys(), sep='\\n')"
   ]
  },
  {
   "cell_type": "code",
   "execution_count": 26,
   "metadata": {},
   "outputs": [],
   "source": [
    "# Variation of paramers for grid_search\n",
    "parametrs_sgd = {'model_fitting__alpha' : [0.00001, 0.0001, 0.001, 0.01, 0.1],\n",
    "                 'model_fitting__eta0' : [0.001, 0.05, 0.1, 0.5], # initial gradient step\n",
    "                 'model_fitting__max_iter' : [500, 1000, 2000],\n",
    "                 'model_fitting__penalty' : ['l2']}"
   ]
  },
  {
   "cell_type": "code",
   "execution_count": 27,
   "metadata": {},
   "outputs": [
    {
     "name": "stdout",
     "output_type": "stream",
     "text": [
      "explained_variance\n",
      "r2\n",
      "max_error\n",
      "neg_median_absolute_error\n",
      "neg_mean_absolute_error\n",
      "neg_mean_squared_error\n",
      "neg_mean_squared_log_error\n",
      "accuracy\n",
      "roc_auc\n",
      "balanced_accuracy\n",
      "average_precision\n",
      "neg_log_loss\n",
      "brier_score_loss\n",
      "adjusted_rand_score\n",
      "homogeneity_score\n",
      "completeness_score\n",
      "v_measure_score\n",
      "mutual_info_score\n",
      "adjusted_mutual_info_score\n",
      "normalized_mutual_info_score\n",
      "fowlkes_mallows_score\n",
      "precision\n",
      "precision_macro\n",
      "precision_micro\n",
      "precision_samples\n",
      "precision_weighted\n",
      "recall\n",
      "recall_macro\n",
      "recall_micro\n",
      "recall_samples\n",
      "recall_weighted\n",
      "f1\n",
      "f1_macro\n",
      "f1_micro\n",
      "f1_samples\n",
      "f1_weighted\n",
      "jaccard\n",
      "jaccard_macro\n",
      "jaccard_micro\n",
      "jaccard_samples\n",
      "jaccard_weighted\n"
     ]
    }
   ],
   "source": [
    "# Available scores of grid_search\n",
    "print(*metrics.SCORERS.keys(), sep='\\n')"
   ]
  },
  {
   "cell_type": "code",
   "execution_count": 28,
   "metadata": {},
   "outputs": [],
   "source": [
    "# Choosing grid_search for searching best model's parametrs and cross-validation\n",
    "grid_cv_sgd = model_selection.GridSearchCV(sgd_estimator,\n",
    "                                           parametrs_sgd,\n",
    "                                           scoring='neg_mean_absolute_error',\n",
    "                                           cv=5,\n",
    "                                           n_jobs=-1)"
   ]
  },
  {
   "cell_type": "code",
   "execution_count": 29,
   "metadata": {},
   "outputs": [
    {
     "name": "stdout",
     "output_type": "stream",
     "text": [
      "CPU times: user 5.8 s, sys: 1.56 s, total: 7.35 s\n",
      "Wall time: 3min 1s\n"
     ]
    },
    {
     "data": {
      "text/plain": [
       "GridSearchCV(cv=5, error_score='raise-deprecating',\n",
       "             estimator=Pipeline(memory=None,\n",
       "                                steps=[('feature_processing',\n",
       "                                        FeatureUnion(n_jobs=None,\n",
       "                                                     transformer_list=[('binary_variables_processing',\n",
       "                                                                        FunctionTransformer(accept_sparse=False,\n",
       "                                                                                            check_inverse=True,\n",
       "                                                                                            func=<function <lambda> at 0x7f191c3a03b0>,\n",
       "                                                                                            inv_kw_args=None,\n",
       "                                                                                            inverse_func=None,\n",
       "                                                                                            kw_args=None,\n",
       "                                                                                            pass_y='deprecated'...\n",
       "                                                     verbose=0,\n",
       "                                                     warm_start=False))],\n",
       "                                verbose=False),\n",
       "             iid='warn', n_jobs=-1,\n",
       "             param_grid={'model_fitting__alpha': [1e-05, 0.0001, 0.001, 0.01,\n",
       "                                                  0.1],\n",
       "                         'model_fitting__eta0': [0.001, 0.05, 0.1, 0.5],\n",
       "                         'model_fitting__max_iter': [500, 1000, 2000],\n",
       "                         'model_fitting__penalty': ['l2']},\n",
       "             pre_dispatch='2*n_jobs', refit=True, return_train_score=False,\n",
       "             scoring='neg_mean_absolute_error', verbose=0)"
      ]
     },
     "execution_count": 29,
     "metadata": {},
     "output_type": "execute_result"
    }
   ],
   "source": [
    "%%time\n",
    "# Fiting grid_search by data\n",
    "grid_cv_sgd.fit(X_train, y_train)"
   ]
  },
  {
   "cell_type": "code",
   "execution_count": 30,
   "metadata": {},
   "outputs": [
    {
     "name": "stdout",
     "output_type": "stream",
     "text": [
      "-105.37707430364274\n",
      "{'model_fitting__alpha': 0.1, 'model_fitting__eta0': 0.001, 'model_fitting__max_iter': 500, 'model_fitting__penalty': 'l2'}\n"
     ]
    }
   ],
   "source": [
    "print(grid_cv_sgd.best_score_)\n",
    "print(grid_cv_sgd.best_params_)"
   ]
  },
  {
   "cell_type": "code",
   "execution_count": 31,
   "metadata": {},
   "outputs": [],
   "source": [
    "def get_rmsle(y_true, y_pred):\n",
    "    '''Func for counting Root Mean Squared Logarithmic Error (RMSLE)'''\n",
    "    \n",
    "    # scaling to (0. 1)\n",
    "    y_true_scaled = preprocessing.minmax_scale(y_true,feature_range=(0,1))    \n",
    "    y_pred_scaled = preprocessing.minmax_scale(y_pred, feature_range=(0,1))\n",
    "    \n",
    "    return np.sqrt(metrics.mean_squared_log_error(y_true_scaled,\n",
    "                                                  y_pred_scaled))"
   ]
  },
  {
   "cell_type": "code",
   "execution_count": 32,
   "metadata": {},
   "outputs": [],
   "source": [
    "y_train_pred_sgd = grid_cv_sgd.best_estimator_.predict(X_train)"
   ]
  },
  {
   "cell_type": "code",
   "execution_count": 33,
   "metadata": {},
   "outputs": [
    {
     "name": "stdout",
     "output_type": "stream",
     "text": [
      "RMSLE on train data: 0.2843820949906415\n"
     ]
    }
   ],
   "source": [
    "# RMSLE on train data\n",
    "print('RMSLE on train data: {}'.format(get_rmsle(y_train, y_train_pred_sgd)))"
   ]
  },
  {
   "cell_type": "markdown",
   "metadata": {},
   "source": [
    "#### score on test data:"
   ]
  },
  {
   "cell_type": "code",
   "execution_count": 34,
   "metadata": {},
   "outputs": [],
   "source": [
    "y_test_pred_sgd = grid_cv_sgd.best_estimator_.predict(X_test)"
   ]
  },
  {
   "cell_type": "code",
   "execution_count": 35,
   "metadata": {},
   "outputs": [
    {
     "name": "stdout",
     "output_type": "stream",
     "text": [
      "RMSLE on test data: 0.27756788833375284\n"
     ]
    }
   ],
   "source": [
    "# RMSLE on test data\n",
    "print('RMSLE on test data: {}'.format(get_rmsle(y_test, y_test_pred_sgd)))"
   ]
  },
  {
   "cell_type": "code",
   "execution_count": 36,
   "metadata": {},
   "outputs": [
    {
     "name": "stdout",
     "output_type": "stream",
     "text": [
      "[127  13 163 233 222 166 144 376 601  53   6  14 209]\n",
      "[238.  37. 169. 269. 372. 285. 167. 294. 157.  49.   4. 137. 278.]\n"
     ]
    }
   ],
   "source": [
    "# compare several test labels and predicted labels just by view \n",
    "print(y_test[:13].to_numpy())\n",
    "print(y_test_pred_sgd[:13].round())"
   ]
  },
  {
   "cell_type": "code",
   "execution_count": 37,
   "metadata": {},
   "outputs": [
    {
     "data": {
      "text/plain": [
       "Text(0.5, 1.0, 'SGD Regressor')"
      ]
     },
     "execution_count": 37,
     "metadata": {},
     "output_type": "execute_result"
    },
    {
     "data": {
      "image/png": "[encoded data removed]",
      "text/plain": [
       "<Figure size 504x360 with 1 Axes>"
      ]
     },
     "metadata": {
      "needs_background": "light"
     },
     "output_type": "display_data"
    }
   ],
   "source": [
    "# Display a graph of points in the space of correct labels and predictions \n",
    "# on train and test data. A diagonal cloud of point is expected for a good regression model.\\\n",
    "# (2 scatter plots on 1 graph)\n",
    "plt.figure(figsize=(7, 5))\n",
    "plt.grid(True)\n",
    "plt.xlim(-100,1100)\n",
    "plt.ylim(-100,1100)\n",
    "plt.scatter(y_train, y_train_pred_sgd, alpha=0.5, color='red', label='train')\n",
    "plt.scatter(y_test, y_test_pred_sgd, alpha=0.5, color='blue', label='test')\n",
    "plt.legend()\n",
    "plt.title('SGD Regressor')"
   ]
  },
  {
   "cell_type": "markdown",
   "metadata": {},
   "source": [
    "So, the linear model SGD Regressor showed not really impressive result."
   ]
  },
  {
   "cell_type": "markdown",
   "metadata": {},
   "source": [
    "## Random Forest:"
   ]
  },
  {
   "cell_type": "code",
   "execution_count": 38,
   "metadata": {},
   "outputs": [],
   "source": [
    "# Choosing a model\n",
    "rf_reg = ensemble.RandomForestRegressor(random_state=42)"
   ]
  },
  {
   "cell_type": "code",
   "execution_count": 39,
   "metadata": {},
   "outputs": [],
   "source": [
    "# Creating pipeline for data transforming and further estimation\n",
    "# (notice: numeric data doesn't need scaling with random forest, but just let it be)\n",
    "rf_estimator = pipeline.Pipeline(steps=[\n",
    "    ('feature_processing', pipeline.FeatureUnion(transformer_list=[\n",
    "        \n",
    "        #binary\n",
    "        ('binary_variables_processing', preprocessing.FunctionTransformer(lambda data:\\\n",
    "                                                                          data[:, get_ind(binary_col)])),\n",
    "        \n",
    "        #numeric\n",
    "        ('numeric_variables_processing', pipeline.Pipeline(steps=[\n",
    "            ('selecting', preprocessing.FunctionTransformer(lambda data: data[:, get_ind(numeric_col)])),\n",
    "            ('scaling', preprocessing.StandardScaler(with_mean=0.))])),        \n",
    "        \n",
    "        #categorical\n",
    "        ('categorical_variables_processing', pipeline.Pipeline(steps=[\n",
    "            ('selecting', preprocessing.FunctionTransformer(lambda data: data[:, get_ind(categor_col)])),\n",
    "            ('hot_encoding', preprocessing.OneHotEncoder(handle_unknown='ignore', sparse=False))])),\n",
    "        ])),\n",
    "    \n",
    "    ('model_fitting', rf_reg)\n",
    "])"
   ]
  },
  {
   "cell_type": "code",
   "execution_count": 40,
   "metadata": {},
   "outputs": [
    {
     "name": "stdout",
     "output_type": "stream",
     "text": [
      "memory\n",
      "steps\n",
      "verbose\n",
      "feature_processing\n",
      "model_fitting\n",
      "feature_processing__n_jobs\n",
      "feature_processing__transformer_list\n",
      "feature_processing__transformer_weights\n",
      "feature_processing__verbose\n",
      "feature_processing__binary_variables_processing\n",
      "feature_processing__numeric_variables_processing\n",
      "feature_processing__categorical_variables_processing\n",
      "feature_processing__binary_variables_processing__accept_sparse\n",
      "feature_processing__binary_variables_processing__check_inverse\n",
      "feature_processing__binary_variables_processing__func\n",
      "feature_processing__binary_variables_processing__inv_kw_args\n",
      "feature_processing__binary_variables_processing__inverse_func\n",
      "feature_processing__binary_variables_processing__kw_args\n",
      "feature_processing__binary_variables_processing__pass_y\n",
      "feature_processing__binary_variables_processing__validate\n",
      "feature_processing__numeric_variables_processing__memory\n",
      "feature_processing__numeric_variables_processing__steps\n",
      "feature_processing__numeric_variables_processing__verbose\n",
      "feature_processing__numeric_variables_processing__selecting\n",
      "feature_processing__numeric_variables_processing__scaling\n",
      "feature_processing__numeric_variables_processing__selecting__accept_sparse\n",
      "feature_processing__numeric_variables_processing__selecting__check_inverse\n",
      "feature_processing__numeric_variables_processing__selecting__func\n",
      "feature_processing__numeric_variables_processing__selecting__inv_kw_args\n",
      "feature_processing__numeric_variables_processing__selecting__inverse_func\n",
      "feature_processing__numeric_variables_processing__selecting__kw_args\n",
      "feature_processing__numeric_variables_processing__selecting__pass_y\n",
      "feature_processing__numeric_variables_processing__selecting__validate\n",
      "feature_processing__numeric_variables_processing__scaling__copy\n",
      "feature_processing__numeric_variables_processing__scaling__with_mean\n",
      "feature_processing__numeric_variables_processing__scaling__with_std\n",
      "feature_processing__categorical_variables_processing__memory\n",
      "feature_processing__categorical_variables_processing__steps\n",
      "feature_processing__categorical_variables_processing__verbose\n",
      "feature_processing__categorical_variables_processing__selecting\n",
      "feature_processing__categorical_variables_processing__hot_encoding\n",
      "feature_processing__categorical_variables_processing__selecting__accept_sparse\n",
      "feature_processing__categorical_variables_processing__selecting__check_inverse\n",
      "feature_processing__categorical_variables_processing__selecting__func\n",
      "feature_processing__categorical_variables_processing__selecting__inv_kw_args\n",
      "feature_processing__categorical_variables_processing__selecting__inverse_func\n",
      "feature_processing__categorical_variables_processing__selecting__kw_args\n",
      "feature_processing__categorical_variables_processing__selecting__pass_y\n",
      "feature_processing__categorical_variables_processing__selecting__validate\n",
      "feature_processing__categorical_variables_processing__hot_encoding__categorical_features\n",
      "feature_processing__categorical_variables_processing__hot_encoding__categories\n",
      "feature_processing__categorical_variables_processing__hot_encoding__drop\n",
      "feature_processing__categorical_variables_processing__hot_encoding__dtype\n",
      "feature_processing__categorical_variables_processing__hot_encoding__handle_unknown\n",
      "feature_processing__categorical_variables_processing__hot_encoding__n_values\n",
      "feature_processing__categorical_variables_processing__hot_encoding__sparse\n",
      "model_fitting__bootstrap\n",
      "model_fitting__criterion\n",
      "model_fitting__max_depth\n",
      "model_fitting__max_features\n",
      "model_fitting__max_leaf_nodes\n",
      "model_fitting__min_impurity_decrease\n",
      "model_fitting__min_impurity_split\n",
      "model_fitting__min_samples_leaf\n",
      "model_fitting__min_samples_split\n",
      "model_fitting__min_weight_fraction_leaf\n",
      "model_fitting__n_estimators\n",
      "model_fitting__n_jobs\n",
      "model_fitting__oob_score\n",
      "model_fitting__random_state\n",
      "model_fitting__verbose\n",
      "model_fitting__warm_start\n"
     ]
    }
   ],
   "source": [
    "# Available parametrs of created estimator\n",
    "print(*rf_estimator.get_params().keys(), sep='\\n')"
   ]
  },
  {
   "cell_type": "code",
   "execution_count": 41,
   "metadata": {},
   "outputs": [],
   "source": [
    "# Variation of paramers for grid_search\n",
    "rf_parametrs = {'model_fitting__n_estimators' : [500, 1000],\n",
    "                'model_fitting__max_depth' : [20, 60]}"
   ]
  },
  {
   "cell_type": "code",
   "execution_count": 42,
   "metadata": {},
   "outputs": [],
   "source": [
    "# Choosing grid_search for searching best model's parametrs and cross-validation\n",
    "grid_cv_rf = model_selection.GridSearchCV(rf_estimator,\n",
    "                                          rf_parametrs,\n",
    "                                          scoring='neg_mean_absolute_error',\n",
    "                                          cv=5,\n",
    "                                          n_jobs=-1)"
   ]
  },
  {
   "cell_type": "code",
   "execution_count": 43,
   "metadata": {},
   "outputs": [
    {
     "name": "stdout",
     "output_type": "stream",
     "text": [
      "CPU times: user 1min 23s, sys: 1.47 s, total: 1min 24s\n",
      "Wall time: 15min 26s\n"
     ]
    },
    {
     "data": {
      "text/plain": [
       "GridSearchCV(cv=5, error_score='raise-deprecating',\n",
       "             estimator=Pipeline(memory=None,\n",
       "                                steps=[('feature_processing',\n",
       "                                        FeatureUnion(n_jobs=None,\n",
       "                                                     transformer_list=[('binary_variables_processing',\n",
       "                                                                        FunctionTransformer(accept_sparse=False,\n",
       "                                                                                            check_inverse=True,\n",
       "                                                                                            func=<function <lambda> at 0x7f191c5f58c0>,\n",
       "                                                                                            inv_kw_args=None,\n",
       "                                                                                            inverse_func=None,\n",
       "                                                                                            kw_args=None,\n",
       "                                                                                            pass_y='deprecated'...\n",
       "                                                              min_weight_fraction_leaf=0.0,\n",
       "                                                              n_estimators='warn',\n",
       "                                                              n_jobs=None,\n",
       "                                                              oob_score=False,\n",
       "                                                              random_state=42,\n",
       "                                                              verbose=0,\n",
       "                                                              warm_start=False))],\n",
       "                                verbose=False),\n",
       "             iid='warn', n_jobs=-1,\n",
       "             param_grid={'model_fitting__max_depth': [20, 60],\n",
       "                         'model_fitting__n_estimators': [500, 1000]},\n",
       "             pre_dispatch='2*n_jobs', refit=True, return_train_score=False,\n",
       "             scoring='neg_mean_absolute_error', verbose=0)"
      ]
     },
     "execution_count": 43,
     "metadata": {},
     "output_type": "execute_result"
    }
   ],
   "source": [
    "%%time\n",
    "# Fiting grid_search by data\n",
    "grid_cv_rf.fit(X_train, y_train)"
   ]
  },
  {
   "cell_type": "code",
   "execution_count": 131,
   "metadata": {},
   "outputs": [
    {
     "name": "stdout",
     "output_type": "stream",
     "text": [
      "-28.03255980785525\n",
      "{'model_fitting__max_depth': 20, 'model_fitting__n_estimators': 1000}\n"
     ]
    }
   ],
   "source": [
    "print(grid_cv_rf.best_score_)\n",
    "print(grid_cv_rf.best_params_)"
   ]
  },
  {
   "cell_type": "code",
   "execution_count": 132,
   "metadata": {},
   "outputs": [],
   "source": [
    "# Dirty hack for getting column name of train data after scalling in order to\n",
    "# counting feature's importances (see below)\n",
    "temp_encoder = preprocessing.OneHotEncoder(handle_unknown='ignore', sparse=False)\n",
    "temp_train_X_encoded = temp_encoder.fit_transform(X_train[categor_col])\n",
    "temp_column_name = temp_encoder.get_feature_names(categor_col)\n",
    "temp_X_train_drop = X_train.drop(categor_col, axis=1)\n",
    "train_column_names = np.concatenate([np.array(list(temp_X_train_drop)), temp_column_name])"
   ]
  },
  {
   "cell_type": "code",
   "execution_count": 133,
   "metadata": {},
   "outputs": [
    {
     "data": {
      "text/html": [
       "<div>\n",
       "<style scoped>\n",
       "    .dataframe tbody tr th:only-of-type {\n",
       "        vertical-align: middle;\n",
       "    }\n",
       "\n",
       "    .dataframe tbody tr th {\n",
       "        vertical-align: top;\n",
       "    }\n",
       "\n",
       "    .dataframe thead th {\n",
       "        text-align: right;\n",
       "    }\n",
       "</style>\n",
       "<table border=\"1\" class=\"dataframe\">\n",
       "  <thead>\n",
       "    <tr style=\"text-align: right;\">\n",
       "      <th></th>\n",
       "      <th>feature</th>\n",
       "      <th>feature_importances</th>\n",
       "    </tr>\n",
       "  </thead>\n",
       "  <tbody>\n",
       "    <tr>\n",
       "      <td>6</td>\n",
       "      <td>hour</td>\n",
       "      <td>0.6103</td>\n",
       "    </tr>\n",
       "    <tr>\n",
       "      <td>2</td>\n",
       "      <td>temp</td>\n",
       "      <td>0.0850</td>\n",
       "    </tr>\n",
       "    <tr>\n",
       "      <td>1</td>\n",
       "      <td>workingday</td>\n",
       "      <td>0.0716</td>\n",
       "    </tr>\n",
       "    <tr>\n",
       "      <td>27</td>\n",
       "      <td>year_2011</td>\n",
       "      <td>0.0433</td>\n",
       "    </tr>\n",
       "    <tr>\n",
       "      <td>28</td>\n",
       "      <td>year_2012</td>\n",
       "      <td>0.0417</td>\n",
       "    </tr>\n",
       "    <tr>\n",
       "      <td>3</td>\n",
       "      <td>atemp</td>\n",
       "      <td>0.0373</td>\n",
       "    </tr>\n",
       "    <tr>\n",
       "      <td>4</td>\n",
       "      <td>humidity</td>\n",
       "      <td>0.0321</td>\n",
       "    </tr>\n",
       "    <tr>\n",
       "      <td>7</td>\n",
       "      <td>season_1</td>\n",
       "      <td>0.0272</td>\n",
       "    </tr>\n",
       "    <tr>\n",
       "      <td>13</td>\n",
       "      <td>weather_3</td>\n",
       "      <td>0.0127</td>\n",
       "    </tr>\n",
       "    <tr>\n",
       "      <td>5</td>\n",
       "      <td>windspeed</td>\n",
       "      <td>0.0112</td>\n",
       "    </tr>\n",
       "  </tbody>\n",
       "</table>\n",
       "</div>"
      ],
      "text/plain": [
       "       feature  feature_importances\n",
       "6         hour               0.6103\n",
       "2         temp               0.0850\n",
       "1   workingday               0.0716\n",
       "27   year_2011               0.0433\n",
       "28   year_2012               0.0417\n",
       "3        atemp               0.0373\n",
       "4     humidity               0.0321\n",
       "7     season_1               0.0272\n",
       "13   weather_3               0.0127\n",
       "5    windspeed               0.0112"
      ]
     },
     "execution_count": 133,
     "metadata": {},
     "output_type": "execute_result"
    }
   ],
   "source": [
    "# Let's see which features are most important\n",
    "feature_importances = grid_cv_rf.best_estimator_.named_steps['model_fitting'].feature_importances_\n",
    "\n",
    "# puting features and their importances into DataFrame\n",
    "feature_importan_df = pd.DataFrame({'feature' : train_column_names, \n",
    "                                    'feature_importances' : feature_importances.round(4)})\n",
    "# showing importance of features (first ten)\n",
    "feature_importances_df = feature_importan_df.sort_values('feature_importances',\n",
    "                                                         ascending=False).head(10)\n",
    "feature_importances_df"
   ]
  },
  {
   "cell_type": "code",
   "execution_count": 136,
   "metadata": {},
   "outputs": [],
   "source": [
    "# Another dirty hack for getting all scalling train data with column name in order to\n",
    "# shoing plot of dependence of the most important features from count (see below)\n",
    "one_hot_encoded_data = X_train\n",
    "for cat in categor_col:      \n",
    "    temp_one_hot_encoded_data = pd.get_dummies(X_train[cat],prefix=cat)    \n",
    "    one_hot_encoded_data = pd.concat([one_hot_encoded_data,temp_one_hot_encoded_data],axis=1)\n",
    "    one_hot_encoded_data.drop(cat, axis=1, inplace=True)  "
   ]
  },
  {
   "cell_type": "code",
   "execution_count": 137,
   "metadata": {},
   "outputs": [
    {
     "data": {
      "image/png": "[encoded data removed]",
      "text/plain": [
       "<Figure size 1080x576 with 6 Axes>"
      ]
     },
     "metadata": {
      "needs_background": "light"
     },
     "output_type": "display_data"
    }
   ],
   "source": [
    "# Plot of dependence of the most important features from count\n",
    "plt.figure(figsize=(15, 8))\n",
    "colors = ['green', 'blue', 'red', 'yellow', 'pink', 'grey']\n",
    "for i in range(6):\n",
    "    plt.subplot(2, 3, i+1)\n",
    "    plt.grid(True)\n",
    "    plt.scatter(one_hot_encoded_data[feature_importances_df.iloc[i, 0]],\n",
    "                y_train, color=colors[i], label='train')    \n",
    "    plt.ylabel('count')\n",
    "    plt.xlabel(feature_importances_df.iloc[i, 0])"
   ]
  },
  {
   "cell_type": "code",
   "execution_count": 138,
   "metadata": {},
   "outputs": [
    {
     "name": "stdout",
     "output_type": "stream",
     "text": [
      "RMSLE on train data: 0.01588275162953303\n"
     ]
    }
   ],
   "source": [
    "# RMSLE on train data\n",
    "y_train_pred = grid_cv_rf.best_estimator_.predict(X_train)\n",
    "print('RMSLE on train data: {}'.format(get_rmsle(y_train, y_train_pred)))"
   ]
  },
  {
   "cell_type": "markdown",
   "metadata": {},
   "source": [
    "#### score on test data:"
   ]
  },
  {
   "cell_type": "code",
   "execution_count": 139,
   "metadata": {},
   "outputs": [
    {
     "name": "stdout",
     "output_type": "stream",
     "text": [
      "RMSLE on test data: 0.03429178034789059\n"
     ]
    }
   ],
   "source": [
    "# RMSLE on test data\n",
    "y_test_pred = grid_cv_rf.best_estimator_.predict(X_test)\n",
    "print('RMSLE on test data: {}'.format(get_rmsle(y_test, y_test_pred)))"
   ]
  },
  {
   "cell_type": "code",
   "execution_count": 140,
   "metadata": {},
   "outputs": [
    {
     "name": "stdout",
     "output_type": "stream",
     "text": [
      "[127  13 163 233 222 166 144 376 601  53   6  14 209]\n",
      "[136.  12. 145. 211. 170. 182. 140. 364. 665.  61.   8.  30. 219.]\n"
     ]
    }
   ],
   "source": [
    "# compare several test labels and predicted labels just by view \n",
    "print(y_test[:13].to_numpy())\n",
    "print(y_test_pred[:13].round())"
   ]
  },
  {
   "cell_type": "code",
   "execution_count": 141,
   "metadata": {},
   "outputs": [
    {
     "data": {
      "text/plain": [
       "Text(0.5, 1.0, 'Random Forest')"
      ]
     },
     "execution_count": 141,
     "metadata": {},
     "output_type": "execute_result"
    },
    {
     "data": {
      "image/png": "[encoded data removed]",
      "text/plain": [
       "<Figure size 504x360 with 1 Axes>"
      ]
     },
     "metadata": {
      "needs_background": "light"
     },
     "output_type": "display_data"
    }
   ],
   "source": [
    "# Display a graph of points in the space of correct labels and predictions \n",
    "# on train and test data. A diagonal cloud of point is expected for a good regression model.\n",
    "# (2 scatter plots on 1 graph)\n",
    "plt.figure(figsize=(7, 5))\n",
    "plt.grid(True)\n",
    "plt.xlim(-100,1100)\n",
    "plt.ylim(-100,1100)\n",
    "plt.scatter(y_train, y_train_pred, alpha=0.5, color = 'red', label='train')\n",
    "plt.scatter(y_test, y_test_pred, alpha=0.5, color = 'blue', label='test')\n",
    "plt.legend()\n",
    "plt.title('Random Forest')"
   ]
  },
  {
   "cell_type": "markdown",
   "metadata": {},
   "source": [
    "So, the Random Forest Regressor showed better result."
   ]
  },
  {
   "cell_type": "markdown",
   "metadata": {},
   "source": [
    "### Final prediction and submision:"
   ]
  },
  {
   "cell_type": "code",
   "execution_count": 142,
   "metadata": {},
   "outputs": [],
   "source": [
    "# Predictions on validation sample\n",
    "y_val_pred = grid_cv_rf.best_estimator_.predict(val_data)"
   ]
  },
  {
   "cell_type": "code",
   "execution_count": 143,
   "metadata": {},
   "outputs": [
    {
     "name": "stdout",
     "output_type": "stream",
     "text": [
      "Your submission was successfully saved!\n"
     ]
    }
   ],
   "source": [
    "# Making submission file (saving results in the csv-file)\n",
    "answer = pd.DataFrame({'datetime' : raw_val.datetime,\n",
    "                       'count' : y_val_pred})\n",
    "answer.to_csv('my_submission.csv', index=False)\n",
    "print('Your submission was successfully saved!')"
   ]
  },
  {
   "cell_type": "code",
   "execution_count": null,
   "metadata": {},
   "outputs": [],
   "source": []
  }
 ],
 "metadata": {
  "kernelspec": {
   "display_name": "Python 3",
   "language": "python",
   "name": "python3"
  },
  "language_info": {
   "codemirror_mode": {
    "name": "ipython",
    "version": 3
   },
   "file_extension": ".py",
   "mimetype": "text/x-python",
   "name": "python",
   "nbconvert_exporter": "python",
   "pygments_lexer": "ipython3",
   "version": "3.7.4"
  }
 },
 "nbformat": 4,
 "nbformat_minor": 2
}
